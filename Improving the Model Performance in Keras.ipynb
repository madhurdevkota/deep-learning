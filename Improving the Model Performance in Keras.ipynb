{
 "cells": [
  {
   "cell_type": "markdown",
   "metadata": {},
   "source": [
    "#### libraries"
   ]
  },
  {
   "cell_type": "code",
   "execution_count": 15,
   "metadata": {},
   "outputs": [],
   "source": [
    "# device = cuda.get_current_device()\n",
    "# device.reset()\n",
    "\n",
    "import os\n",
    "\n",
    "from numba import cuda \n",
    "\n",
    "import pandas as pd\n",
    "import numpy as np\n",
    "from numpy import savetxt\n",
    "from numpy import genfromtxt\n",
    "from matplotlib import *\n",
    "import matplotlib.pyplot as plt\n",
    "import h5py\n",
    "import math\n",
    "import scipy\n",
    "from scipy import ndimage\n",
    "import sklearn\n",
    "import seaborn as sns\n",
    "\n",
    "import tensorflow as tf\n",
    "from tensorflow import *\n",
    "from tensorflow import keras\n",
    "from tensorflow.keras.utils import to_categorical\n",
    "from tensorflow.keras.models import load_model\n",
    "from tensorflow.keras.datasets import mnist\n",
    "from tensorflow.keras.models import Sequential\n",
    "from tensorflow.keras.layers import Dense, Dropout\n",
    "from tensorflow.keras.optimizers import RMSprop\n",
    "\n",
    "import keras\n",
    "# from keras.layers import Dense\n",
    "# from keras.models import Sequential\n",
    "# from keras.utils import to_categorical\n",
    "from keras.callbacks import *\n",
    "from keras.wrappers.scikit_learn import KerasClassifier\n",
    "from sklearn.model_selection import train_test_split\n",
    "\n",
    "import skimage\n",
    "from skimage import * \n",
    "%matplotlib inline\n",
    "\n",
    "np.random.seed(1) # set a seed so that the results are consistent"
   ]
  },
  {
   "cell_type": "markdown",
   "metadata": {},
   "source": [
    "### Observing Learning (Accuracy & Loss) Curves"
   ]
  },
  {
   "cell_type": "markdown",
   "metadata": {},
   "source": [
    "Model to recognize handwritten digits dataset, a sample dataset that comes pre-loaded with scikit learn.\n",
    "\n",
    "The digits dataset consist of 8x8 pixel handwritten digits from 0 to 9\n"
   ]
  },
  {
   "cell_type": "code",
   "execution_count": 16,
   "metadata": {},
   "outputs": [
    {
     "name": "stdout",
     "output_type": "stream",
     "text": [
      "array([[ 0.,  1.,  9., 16., 13.,  7.,  0.,  0.],\n",
      "       [ 0.,  7., 14.,  4., 10., 12.,  0.,  0.],\n",
      "       [ 0.,  6., 15.,  9., 16., 11.,  0.,  0.],\n",
      "       [ 0.,  0.,  9., 11.,  7., 14.,  0.,  0.],\n",
      "       [ 0.,  0.,  0.,  0.,  0., 15.,  2.,  0.],\n",
      "       [ 0.,  0.,  0.,  0.,  0., 11.,  6.,  0.],\n",
      "       [ 0.,  3., 13.,  8.,  5., 14.,  5.,  0.],\n",
      "       [ 0.,  0.,  9., 14., 13., 10.,  1.,  0.]])\r\n"
     ]
    },
    {
     "data": {
      "image/png": "[encoded data removed]",
      "text/plain": [
       "<Figure size 432x288 with 1 Axes>"
      ]
     },
     "metadata": {
      "needs_background": "light"
     },
     "output_type": "display_data"
    }
   ],
   "source": [
    "# data\n",
    "\n",
    "from sklearn import datasets\n",
    "digit_data = sklearn.datasets.load_digits()\n",
    "\n",
    "X = digit_data['data']\n",
    "\n",
    "y = digit_data['target']\n",
    "y = np.reshape( y, (y.shape[0],1) )\n",
    "y = keras.utils.to_categorical( y, dtype= 'float32' )\n",
    "\n",
    "X_img = digit_data['images']\n",
    "\n",
    "X_train, X_test, y_train, y_test = train_test_split( X, y,\n",
    "                                                     test_size= 30./100, random_state= 42 )\n",
    "# data visualization\n",
    "indx = 39\n",
    "img_digit = X_img[indx]\n",
    "print(img_digit)\n",
    "\n",
    "img_plot = plt.imshow(img_digit)"
   ]
  },
  {
   "cell_type": "code",
   "execution_count": 17,
   "metadata": {},
   "outputs": [
    {
     "name": "stdout",
     "output_type": "stream",
     "text": [
      "Model: \"sequential\"\n",
      "_________________________________________________________________\n",
      "Layer (type)                 Output Shape              Param #   \n",
      "=================================================================\n",
      "dense (Dense)                (None, 16)                1040      \n",
      "_________________________________________________________________\n",
      "dense_1 (Dense)              (None, 10)                170       \n",
      "=================================================================\n",
      "Total params: 1,210\n",
      "Trainable params: 1,210\n",
      "Non-trainable params: 0\n",
      "_________________________________________________________________\n",
      "None\r\n"
     ]
    },
    {
     "data": {
      "text/plain": [
       "'Predicting on training data inputs before training can help quickly check that the model works as expected.'"
      ]
     },
     "execution_count": 17,
     "metadata": {},
     "output_type": "execute_result"
    }
   ],
   "source": [
    "# model architecture\n",
    "tf.keras.backend.clear_session()\n",
    "\n",
    "kSeqModel_1 = keras.Sequential()\n",
    "num_feature = X_train.shape[1]\n",
    "\n",
    "kSeqModel_1.add( \n",
    "                    layer= Dense( 16, activation= 'relu', input_shape= (num_feature,) )\n",
    "               )\n",
    "kSeqModel_1.add(\n",
    "                    layer= Dense( 10, activation= 'softmax' )\n",
    ")\n",
    "\n",
    "kSeqModel_1.compile( optimizer= 'adam', loss= 'categorical_crossentropy', metrics= ['accuracy'] )\n",
    "kSeqModel_1.predict( x= X_train )\n",
    "\n",
    "print(kSeqModel_1.summary())\n",
    "'''Predicting on training data inputs before training can help quickly check that the model works as expected.'''"
   ]
  },
  {
   "cell_type": "code",
   "execution_count": 18,
   "metadata": {},
   "outputs": [
    {
     "name": "stdout",
     "output_type": "stream",
     "text": [
      "Epoch 1/20\n",
      "WARNING:tensorflow:Callbacks method `on_test_batch_end` is slow compared to the batch time (batch time: 0.0000s vs `on_test_batch_end` time: 0.0010s). Check your callbacks.\n",
      "40/40 - 0s - loss: 8.3397 - accuracy: 0.0780 - val_loss: 4.1792 - val_accuracy: 0.1407\n",
      "Epoch 2/20\n",
      "40/40 - 0s - loss: 3.1741 - accuracy: 0.1790 - val_loss: 2.4414 - val_accuracy: 0.2296\n",
      "Epoch 3/20\n",
      "40/40 - 0s - loss: 2.1800 - accuracy: 0.2418 - val_loss: 1.9892 - val_accuracy: 0.2778\n",
      "Epoch 4/20\n",
      "40/40 - 0s - loss: 1.8955 - accuracy: 0.3071 - val_loss: 1.8034 - val_accuracy: 0.3241\n",
      "Epoch 5/20\n",
      "40/40 - 0s - loss: 1.7625 - accuracy: 0.3429 - val_loss: 1.7070 - val_accuracy: 0.3444\n",
      "Epoch 6/20\n",
      "40/40 - 0s - loss: 1.6796 - accuracy: 0.3715 - val_loss: 1.6323 - val_accuracy: 0.3537\n",
      "Epoch 7/20\n",
      "40/40 - 0s - loss: 1.6089 - accuracy: 0.3898 - val_loss: 1.5619 - val_accuracy: 0.3870\n",
      "Epoch 8/20\n",
      "40/40 - 0s - loss: 1.5349 - accuracy: 0.4224 - val_loss: 1.4680 - val_accuracy: 0.4519\n",
      "Epoch 9/20\n",
      "40/40 - 0s - loss: 1.4347 - accuracy: 0.4781 - val_loss: 1.3273 - val_accuracy: 0.5389\n",
      "Epoch 10/20\n",
      "40/40 - 0s - loss: 1.2814 - accuracy: 0.5434 - val_loss: 1.1737 - val_accuracy: 0.6037\n",
      "Epoch 11/20\n",
      "40/40 - 0s - loss: 1.1230 - accuracy: 0.6062 - val_loss: 1.0457 - val_accuracy: 0.6352\n",
      "Epoch 12/20\n",
      "40/40 - 0s - loss: 0.9848 - accuracy: 0.6500 - val_loss: 0.9503 - val_accuracy: 0.6722\n",
      "Epoch 13/20\n",
      "40/40 - 0s - loss: 0.8670 - accuracy: 0.6953 - val_loss: 0.8526 - val_accuracy: 0.7000\n",
      "Epoch 14/20\n",
      "40/40 - 0s - loss: 0.7614 - accuracy: 0.7176 - val_loss: 0.7708 - val_accuracy: 0.7315\n",
      "Epoch 15/20\n",
      "40/40 - 0s - loss: 0.6870 - accuracy: 0.7391 - val_loss: 0.6981 - val_accuracy: 0.7722\n",
      "Epoch 16/20\n",
      "40/40 - 0s - loss: 0.6015 - accuracy: 0.7836 - val_loss: 0.6081 - val_accuracy: 0.7907\n",
      "Epoch 17/20\n",
      "40/40 - 0s - loss: 0.5118 - accuracy: 0.8170 - val_loss: 0.5393 - val_accuracy: 0.8241\n",
      "Epoch 18/20\n",
      "40/40 - 0s - loss: 0.4411 - accuracy: 0.8473 - val_loss: 0.4851 - val_accuracy: 0.8444\n",
      "Epoch 19/20\n",
      "40/40 - 0s - loss: 0.4051 - accuracy: 0.8640 - val_loss: 0.4434 - val_accuracy: 0.8593\n",
      "Epoch 20/20\n",
      "40/40 - 0s - loss: 0.3567 - accuracy: 0.8759 - val_loss: 0.4273 - val_accuracy: 0.8574\n"
     ]
    }
   ],
   "source": [
    "# model fit\n",
    "model_fit_history = kSeqModel_1.fit( x= X_train, y= y_train,\n",
    "                                     verbose= 2, epochs= 20,\n",
    "                                     validation_data= (X_test,y_test) )\n",
    "\n",
    "initial_wt_learned = kSeqModel_1.get_weights()"
   ]
  },
  {
   "cell_type": "code",
   "execution_count": 19,
   "metadata": {},
   "outputs": [],
   "source": [
    "# helper function to plot accuracy\n",
    "\n",
    "def plot_accuracy(model_history):    \n",
    "\n",
    "    my_plot = plt.figure()\n",
    "    ax = my_plot.add_subplot(111)\n",
    "\n",
    "    plt.plot( model_history.history['accuracy'] )\n",
    "    plt.plot( model_history.history['val_accuracy'] )\n",
    "\n",
    "    ax.set_xlabel('Epoch');  ax.set_ylabel('Accuracy %')\n",
    "\n",
    "    ax.spines['bottom'].set_color('red'); ax.spines['top'].set_color('red')\n",
    "    ax.xaxis.label.set_color('red'); ax.yaxis.label.set_color('red')\n",
    "    ax.tick_params(axis='x', colors='red'); ax.tick_params(axis='y', colors='red')\n",
    "\n",
    "\n",
    "    plt.title( 'Model Accuracy over Training and Validation dataset' , color ='blue' )\n",
    "\n",
    "    plt.legend( ['Train dataset', 'Validation dataset'], loc= 'upper right' )\n",
    "    plt.show()\n",
    "    \n",
    "def plot_loss(loss,val_loss):\n",
    "  plt.figure()\n",
    "  plt.plot(loss)\n",
    "  plt.plot(val_loss)\n",
    "  plt.title('Model loss')\n",
    "  plt.ylabel('Loss')\n",
    "  plt.xlabel('Epoch')\n",
    "  plt.legend(['Train', 'Test'], loc='upper right')\n",
    "  plt.show()"
   ]
  },
  {
   "cell_type": "code",
   "execution_count": 20,
   "metadata": {},
   "outputs": [
    {
     "data": {
      "image/png": "[encoded data removed]",
      "text/plain": [
       "<Figure size 432x288 with 1 Axes>"
      ]
     },
     "metadata": {
      "needs_background": "light"
     },
     "output_type": "display_data"
    }
   ],
   "source": [
    "plot_accuracy( model_fit_history  )"
   ]
  },
  {
   "cell_type": "code",
   "execution_count": 21,
   "metadata": {},
   "outputs": [
    {
     "data": {
      "image/png": "[encoded data removed]",
      "text/plain": [
       "<Figure size 432x288 with 1 Axes>"
      ]
     },
     "metadata": {
      "needs_background": "light"
     },
     "output_type": "display_data"
    }
   ],
   "source": [
    "plot_loss( model_fit_history.history['loss'],\n",
    "           model_fit_history.history['val_loss'] )"
   ]
  },
  {
   "cell_type": "code",
   "execution_count": 22,
   "metadata": {},
   "outputs": [
    {
     "name": "stdout",
     "output_type": "stream",
     "text": [
      "4/4 - 0s - loss: 4.4908e-04 - accuracy: 1.0000\n",
      "17/17 - 0s - loss: 0.6298 - accuracy: 0.8907\n",
      "Done with the size:  125\n",
      "\n",
      "------------------------------------------------------\n",
      "16/16 - 0s - loss: 4.2887e-07 - accuracy: 1.0000\n",
      "17/17 - 0s - loss: 0.2331 - accuracy: 0.9556\n",
      "Done with the size:  502\n",
      "\n",
      "------------------------------------------------------\n",
      "WARNING:tensorflow:Callbacks method `on_test_batch_end` is slow compared to the batch time (batch time: 0.0000s vs `on_test_batch_end` time: 0.0010s). Check your callbacks.\n",
      "28/28 - 0s - loss: 1.8987e-09 - accuracy: 1.0000\n",
      "17/17 - 0s - loss: 0.3523 - accuracy: 0.9556\n",
      "Done with the size:  879\n",
      "\n",
      "------------------------------------------------------\n",
      "40/40 - 0s - loss: 9.7451e-07 - accuracy: 1.0000\n",
      "17/17 - 0s - loss: 0.3845 - accuracy: 0.9704\n",
      "Done with the size:  1255\n",
      "\n",
      "------------------------------------------------------\n"
     ]
    }
   ],
   "source": [
    "# Comparing model learning process using fractional data\n",
    "\n",
    "\n",
    "train_Accuracy_list = []; test_Accuracy_list = []\n",
    "training_sizes = np.array( [125,502,879,1255] )\n",
    "\n",
    "for frac_size in training_sizes:\n",
    "    # split the train data\n",
    "    X_train_frac, _, y_train_frac, _ = train_test_split( X_train, y_train, train_size= frac_size )\n",
    "    \n",
    "    # set to-be-learning model's weigths to already learned weight\n",
    "    kSeqModel_1.set_weights(initial_wt_learned)\n",
    "    \n",
    "    # fot model using fraction data\n",
    "    kSeqModel_1.fit( x= X_train_frac, y= y_train_frac,\n",
    "                     epochs= 1000, verbose= 0,\n",
    "                     callbacks= [ EarlyStopping(monitor= 'loss', patience= 50) ]\n",
    "                   )\n",
    "    # get the accuracy for fractional data\n",
    "    train_Accuracy = kSeqModel_1.evaluate( x= X_train_frac, y= y_train_frac, verbose= 2 )[1]\n",
    "    train_Accuracy_list.append(train_Accuracy)\n",
    "    \n",
    "    # accuracy for test data\n",
    "    test_Accuracy = kSeqModel_1.evaluate(X_test, y_test, verbose= 2)[1]\n",
    "    test_Accuracy_list.append(test_Accuracy)\n",
    "    \n",
    "    print('Done with the size: ', frac_size); print('\\n------------------------------------------------------')\n",
    "    "
   ]
  },
  {
   "cell_type": "code",
   "execution_count": 23,
   "metadata": {},
   "outputs": [
    {
     "data": {
      "image/png": "[encoded data removed]",
      "text/plain": [
       "<Figure size 432x288 with 1 Axes>"
      ]
     },
     "metadata": {
      "needs_background": "light"
     },
     "output_type": "display_data"
    }
   ],
   "source": [
    "# helper function\n",
    "\n",
    "def plot_results(train_accs,test_accs):\n",
    "  plt.plot(training_sizes, train_accs, 'o-', label=\"Training Accuracy\")\n",
    "  plt.plot(training_sizes, test_accs, 'o-', label=\"Test Accuracy\")\n",
    "  plt.title('Accuracy vs Number of training samples')\n",
    "  plt.xlabel('# of training samples')\n",
    "  plt.ylabel('Accuracy')\n",
    "  plt.legend( loc= \"best\" )\n",
    "  plt.show()\n",
    "\n",
    "plot_results( train_Accuracy_list, test_Accuracy_list  )"
   ]
  }
 ],
 "metadata": {
  "kernelspec": {
   "display_name": "Python 3",
   "language": "python",
   "name": "python3"
  },
  "language_info": {
   "codemirror_mode": {
    "name": "ipython",
    "version": 3
   },
   "file_extension": ".py",
   "mimetype": "text/x-python",
   "name": "python",
   "nbconvert_exporter": "python",
   "pygments_lexer": "ipython3",
   "version": "3.7.0"
  }
 },
 "nbformat": 4,
 "nbformat_minor": 4
}

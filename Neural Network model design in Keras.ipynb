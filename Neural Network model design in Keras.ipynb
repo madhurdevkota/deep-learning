{
 "cells": [
  {
   "cell_type": "code",
   "execution_count": 6,
   "metadata": {
    "ExecuteTime": {
     "end_time": "2020-09-15T05:24:23.517518Z",
     "start_time": "2020-09-15T05:24:23.511585Z"
    }
   },
   "outputs": [],
   "source": [
    "# library\n",
    "import os\n",
    "import pandas as pd\n",
    "import numpy as np\n",
    "from numpy import savetxt\n",
    "from numpy import genfromtxt\n",
    "import matplotlib.pyplot as plt\n",
    "import h5py\n",
    "import math\n",
    "import scipy\n",
    "from scipy import ndimage\n",
    "import sklearn\n",
    "import seaborn as sns\n",
    "\n",
    "import tensorflow as tf\n",
    "from tensorflow import *\n",
    "from tensorflow import keras\n",
    "from tensorflow.keras.utils import to_categorical\n",
    "from tensorflow.keras.models import load_model"
   ]
  },
  {
   "cell_type": "markdown",
   "metadata": {},
   "source": [
    "#### Design Neural Network architecture"
   ]
  },
  {
   "cell_type": "code",
   "execution_count": 7,
   "metadata": {
    "ExecuteTime": {
     "end_time": "2020-09-15T05:24:24.992848Z",
     "start_time": "2020-09-15T05:24:24.958889Z"
    }
   },
   "outputs": [
    {
     "name": "stdout",
     "output_type": "stream",
     "text": [
      "Model: \"sequential_3\"\n",
      "_________________________________________________________________\n",
      "Layer (type)                 Output Shape              Param #   \n",
      "=================================================================\n",
      "dense_7 (Dense)              (None, 16)                12560     \n",
      "_________________________________________________________________\n",
      "dropout_2 (Dropout)          (None, 16)                0         \n",
      "_________________________________________________________________\n",
      "dense_8 (Dense)              (None, 4)                 68        \n",
      "=================================================================\n",
      "Total params: 12,628\n",
      "Trainable params: 12,628\n",
      "Non-trainable params: 0\n",
      "_________________________________________________________________\n",
      "None\n"
     ]
    }
   ],
   "source": [
    "# Keras Sequential model object\n",
    "kerasSeqModel2 = keras.Sequential()\n",
    "\n",
    "## defining dense layers \n",
    "# 1st layer\n",
    "kerasSeqModel2.add(\n",
    "                    keras.layers.Dense( units= 16, activation= 'sigmoid', input_shape= (28*28,) )\n",
    "                  )\n",
    "\n",
    "# apply droupout to the 1st layer's o/p\n",
    "kerasSeqModel2.add(\n",
    "                   keras.layers.Dropout( rate= 25.0/100 )\n",
    "                  )\n",
    "# 2nd layer -- o/p layer\n",
    "kerasSeqModel2.add(\n",
    "                   keras.layers.Dense( units= 4, activation= 'softmax' )\n",
    "                  )\n",
    "\n",
    "# compile the model -- select optimizer and loss function\n",
    "kerasSeqModel2.compile( optimizer= 'adam', loss= 'categorical_crossentropy' )\n",
    "\n",
    "# model summary\n",
    "print( kerasSeqModel2.summary() )"
   ]
  },
  {
   "cell_type": "markdown",
   "metadata": {},
   "source": [
    "#### Desining and running a Neural Network model"
   ]
  },
  {
   "cell_type": "code",
   "execution_count": 9,
   "metadata": {
    "ExecuteTime": {
     "end_time": "2020-09-15T05:26:18.265293Z",
     "start_time": "2020-09-15T05:26:17.625853Z"
    }
   },
   "outputs": [
    {
     "name": "stdout",
     "output_type": "stream",
     "text": [
      "(1000, 784)\n",
      "(1000, 4)\n"
     ]
    }
   ],
   "source": [
    "## Load & prep data\n",
    "X_sign = np.genfromtxt(fname= 'datasets/sign_features.csv', dtype= np.float32, delimiter= ',')\n",
    "print(X_sign.shape)\n",
    "\n",
    "y_labels = np.genfromtxt(fname= 'datasets/sign_labels.csv', dtype= np.float32, delimiter= ',')\n",
    "print(y_labels.shape)"
   ]
  },
  {
   "cell_type": "code",
   "execution_count": 10,
   "metadata": {
    "ExecuteTime": {
     "end_time": "2020-09-15T05:26:48.500217Z",
     "start_time": "2020-09-15T05:26:48.470896Z"
    }
   },
   "outputs": [],
   "source": [
    "# model development\n",
    "\n",
    "# define a model sequential obj\n",
    "kSeqModel = keras.Sequential()\n",
    "\n",
    "# define hidden and o/p layers resp\n",
    "kSeqModel.add( keras.layers.Dense( units= 16, activation= 'relu', input_shape= (28*28,) )\n",
    "             )\n",
    "kSeqModel.add( keras.layers.Dense( units= 4, activation= 'softmax' )\n",
    "             )\n",
    "# compile the model\n",
    "kSeqModel.compile( optimizer= 'SGD', loss= 'categorical_crossentropy' )"
   ]
  },
  {
   "cell_type": "code",
   "execution_count": 11,
   "metadata": {
    "ExecuteTime": {
     "end_time": "2020-09-15T05:27:01.998226Z",
     "start_time": "2020-09-15T05:26:55.024990Z"
    }
   },
   "outputs": [
    {
     "name": "stdout",
     "output_type": "stream",
     "text": [
      "Epoch 1/10\n",
      "32/32 [==============================] - 0s 1ms/step - loss: 0.9281\n",
      "Epoch 2/10\n",
      "32/32 [==============================] - 0s 1ms/step - loss: 1.0567\n",
      "Epoch 3/10\n",
      "32/32 [==============================] - 0s 1ms/step - loss: 0.7498\n",
      "Epoch 4/10\n",
      "32/32 [==============================] - 0s 1ms/step - loss: 0.9610\n",
      "Epoch 5/10\n",
      "32/32 [==============================] - 0s 1ms/step - loss: 0.7615\n",
      "Epoch 6/10\n",
      "32/32 [==============================] - 0s 1ms/step - loss: 1.1038\n",
      "Epoch 7/10\n",
      "32/32 [==============================] - 0s 1ms/step - loss: 0.9495\n",
      "Epoch 8/10\n",
      "32/32 [==============================] - 0s 1ms/step - loss: 0.9677\n",
      "Epoch 9/10\n",
      "32/32 [==============================] - 0s 1ms/step - loss: 0.7739\n",
      "Epoch 10/10\n",
      "32/32 [==============================] - 0s 1ms/step - loss: 0.7929\n"
     ]
    },
    {
     "data": {
      "text/plain": [
       "<tensorflow.python.keras.callbacks.History at 0x7f07872f2f98>"
      ]
     },
     "execution_count": 11,
     "metadata": {},
     "output_type": "execute_result"
    }
   ],
   "source": [
    "# fit the model\n",
    "kSeqModel.fit(X_sign, y_labels, epochs= 10)"
   ]
  },
  {
   "cell_type": "markdown",
   "metadata": {
    "ExecuteTime": {
     "end_time": "2020-09-15T05:27:33.604656Z",
     "start_time": "2020-09-15T05:27:33.602422Z"
    }
   },
   "source": [
    "#### Model development using Metrics & validation set"
   ]
  },
  {
   "cell_type": "code",
   "execution_count": 16,
   "metadata": {
    "ExecuteTime": {
     "end_time": "2020-09-15T05:34:13.457636Z",
     "start_time": "2020-09-15T05:34:12.573921Z"
    }
   },
   "outputs": [
    {
     "name": "stdout",
     "output_type": "stream",
     "text": [
      "Epoch 1/10\n",
      "29/29 - 0s - accuracy: 0.2389 - loss: 1.3390 - val_accuracy: 0.2600 - val_loss: 1.3855\n",
      "Epoch 2/10\n",
      "29/29 - 0s - accuracy: 0.2611 - loss: 1.3858 - val_accuracy: 0.2900 - val_loss: 1.3980\n",
      "Epoch 3/10\n",
      "29/29 - 0s - accuracy: 0.2656 - loss: 1.3870 - val_accuracy: 0.2900 - val_loss: 1.3845\n",
      "Epoch 4/10\n",
      "29/29 - 0s - accuracy: 0.2689 - loss: 3.2099 - val_accuracy: 0.2900 - val_loss: 1.3844\n",
      "Epoch 5/10\n",
      "29/29 - 0s - accuracy: 0.2656 - loss: 8.3205 - val_accuracy: 0.2900 - val_loss: 1.3842\n",
      "Epoch 6/10\n",
      "29/29 - 0s - accuracy: 0.2644 - loss: 11.6099 - val_accuracy: 0.2900 - val_loss: 1.3838\n",
      "Epoch 7/10\n",
      "29/29 - 0s - accuracy: 0.2544 - loss: 1.3855 - val_accuracy: 0.2900 - val_loss: 1.3835\n",
      "Epoch 8/10\n",
      "29/29 - 0s - accuracy: 0.2656 - loss: 1.3854 - val_accuracy: 0.2900 - val_loss: 1.3831\n",
      "Epoch 9/10\n",
      "29/29 - 0s - accuracy: 0.2656 - loss: 1.3853 - val_accuracy: 0.2900 - val_loss: 1.3830\n",
      "Epoch 10/10\n",
      "29/29 - 0s - accuracy: 0.2644 - loss: 5.4289 - val_accuracy: 0.2900 - val_loss: 1.3829\n"
     ]
    },
    {
     "data": {
      "text/plain": [
       "<tensorflow.python.keras.callbacks.History at 0x7f086070eef0>"
      ]
     },
     "execution_count": 16,
     "metadata": {},
     "output_type": "execute_result"
    }
   ],
   "source": [
    "# Define K Seq obj\n",
    "kSeqModel = keras.Sequential()\n",
    "\n",
    "\n",
    "## define NN layers\n",
    "# 1st hidden layer\n",
    "kSeqModel.add(  layer =  keras.layers.Dense( units= 32, activation= 'sigmoid', input_shape= (28*28,) )\n",
    "             )\n",
    "# o/p layer\n",
    "kSeqModel.add(  layer = keras.layers.Dense( units= 4, activation= 'softmax' )\n",
    "             )\n",
    "\n",
    "# compile the model: \n",
    "kSeqModel.compile( optimizer= 'RMSprop', loss= 'categorical_crossentropy', metrics= ['accuracy'] )\n",
    "\n",
    "# model fit\n",
    "kSeqModel.fit( x= X_sign, y= y_labels, epochs= 10, validation_split= 10.0/100 , verbose= 2)"
   ]
  }
 ],
 "metadata": {
  "kernelspec": {
   "display_name": "Python [conda env:ai1] *",
   "language": "python",
   "name": "conda-env-ai1-py"
  },
  "language_info": {
   "codemirror_mode": {
    "name": "ipython",
    "version": 3
   },
   "file_extension": ".py",
   "mimetype": "text/x-python",
   "name": "python",
   "nbconvert_exporter": "python",
   "pygments_lexer": "ipython3",
   "version": "3.6.10"
  }
 },
 "nbformat": 4,
 "nbformat_minor": 4
}
